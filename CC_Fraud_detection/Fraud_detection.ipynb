{
 "cells": [
  {
   "cell_type": "code",
   "execution_count": 4,
   "metadata": {},
   "outputs": [],
   "source": [
    "import pandas as pd\n",
    "import seaborn as sns\n",
    "import matplotlib.pyplot as plt\n",
    "import numpy\n",
    "\n",
    "from sklearn.model_selection import train_test_split\n",
    "#from sklearn.preprocessing import LabelEncoder\n",
    "\n",
    "from sklearn.linear_model import LogisticRegression\n",
    "from sklearn.ensemble import RandomForestClassifier\n",
    "from sklearn.ensemble import GradientBoostingClassifier\n",
    "from sklearn.metrics import classification_report"
   ]
  },
  {
   "cell_type": "code",
   "execution_count": 5,
   "metadata": {},
   "outputs": [
    {
     "data": {
      "text/plain": [
       "\"test_transaction = pd.read_csv('data/test_transaction.csv')\\ntest_identity = pd.read_csv('data/test_identity.csv')\\ndf_new_test = pd.merge(test_transaction,test_identity,how='left',on='TransactionID')\""
      ]
     },
     "execution_count": 5,
     "metadata": {},
     "output_type": "execute_result"
    }
   ],
   "source": [
    "df_transaction = pd.read_csv('data/train_transaction.csv')\n",
    "df_identity = pd.read_csv('data/train_identity.csv')\n",
    "df_new_train = pd.merge(df_transaction,df_identity,how='left',on='TransactionID')\n",
    "\"\"\"test_transaction = pd.read_csv('data/test_transaction.csv')\n",
    "test_identity = pd.read_csv('data/test_identity.csv')\n",
    "df_new_test = pd.merge(test_transaction,test_identity,how='left',on='TransactionID')\"\"\""
   ]
  },
  {
   "cell_type": "code",
   "execution_count": 6,
   "metadata": {},
   "outputs": [
    {
     "data": {
      "text/plain": [
       "<matplotlib.axes._subplots.AxesSubplot at 0x7f6505086b00>"
      ]
     },
     "execution_count": 6,
     "metadata": {},
     "output_type": "execute_result"
    },
    {
     "data": {
      "image/png": "[encoded data removed]",
      "text/plain": [
       "<Figure size 432x288 with 1 Axes>"
      ]
     },
     "metadata": {
      "needs_background": "light"
     },
     "output_type": "display_data"
    }
   ],
   "source": [
    "pd.value_counts(df_new_train['isFraud']).plot.bar()"
   ]
  },
  {
   "cell_type": "code",
   "execution_count": 7,
   "metadata": {},
   "outputs": [],
   "source": [
    "def prepare_data(df):\n",
    "    non_nulls = df.count()/df.shape[0]\n",
    "    df = df[non_nulls[non_nulls > 0.8].index]\n",
    "    df.drop(['TransactionID','TransactionDT'],axis=1,inplace=True)\n",
    "    df.fillna(df.mean(),inplace=True)\n",
    "    df.fillna(df.mode(),inplace=True)\n",
    "    return df"
   ]
  },
  {
   "cell_type": "code",
   "execution_count": 8,
   "metadata": {},
   "outputs": [
    {
     "name": "stderr",
     "output_type": "stream",
     "text": [
      "/home/akedia/.local/lib/python3.6/site-packages/pandas/core/frame.py:3697: SettingWithCopyWarning: \n",
      "A value is trying to be set on a copy of a slice from a DataFrame\n",
      "\n",
      "See the caveats in the documentation: http://pandas.pydata.org/pandas-docs/stable/indexing.html#indexing-view-versus-copy\n",
      "  errors=errors)\n",
      "/home/akedia/.local/lib/python3.6/site-packages/pandas/core/generic.py:5434: SettingWithCopyWarning: \n",
      "A value is trying to be set on a copy of a slice from a DataFrame\n",
      "\n",
      "See the caveats in the documentation: http://pandas.pydata.org/pandas-docs/stable/indexing.html#indexing-view-versus-copy\n",
      "  self._update_inplace(new_data)\n",
      "/home/akedia/.local/lib/python3.6/site-packages/pandas/core/frame.py:3790: SettingWithCopyWarning: \n",
      "A value is trying to be set on a copy of a slice from a DataFrame\n",
      "\n",
      "See the caveats in the documentation: http://pandas.pydata.org/pandas-docs/stable/indexing.html#indexing-view-versus-copy\n",
      "  downcast=downcast, **kwargs)\n"
     ]
    }
   ],
   "source": [
    "train_data = prepare_data(df_new_train)\n",
    "#test_data = prepare_data(df_new_test)"
   ]
  },
  {
   "cell_type": "code",
   "execution_count": 9,
   "metadata": {},
   "outputs": [
    {
     "data": {
      "text/plain": [
       "\"test_encoded = pd.get_dummies(test_data.select_dtypes(include='object'))\\ntest_numeric = test_data.drop(test_encoded.select_dtypes(include='object'),axis=1)\\ntest_encoded = pd.concat([test_numeric,test_encoded],axis=1)\\ntest_encoded = le.transform(test_data.select_dtypes(include='object'))\\ntest_labels = test_encoded['isFraud']\\ntest_encoded.drop('isFraud',axis=1,inplace=True)\""
      ]
     },
     "execution_count": 9,
     "metadata": {},
     "output_type": "execute_result"
    }
   ],
   "source": [
    "train_object = pd.get_dummies(train_data.select_dtypes(include='object'))\n",
    "train_numeric = train_data.drop(train_data.select_dtypes(include='object'),axis=1)\n",
    "train_encoded = pd.concat([train_numeric,train_object],axis=1)\n",
    "train_labels = train_encoded['isFraud']\n",
    "train_encoded.drop('isFraud',axis=1,inplace=True)\n",
    "\n",
    "\"\"\"test_encoded = pd.get_dummies(test_data.select_dtypes(include='object'))\n",
    "test_numeric = test_data.drop(test_encoded.select_dtypes(include='object'),axis=1)\n",
    "test_encoded = pd.concat([test_numeric,test_encoded],axis=1)\n",
    "test_encoded = le.transform(test_data.select_dtypes(include='object'))\n",
    "test_labels = test_encoded['isFraud']\n",
    "test_encoded.drop('isFraud',axis=1,inplace=True)\"\"\""
   ]
  },
  {
   "cell_type": "code",
   "execution_count": 10,
   "metadata": {},
   "outputs": [
    {
     "name": "stderr",
     "output_type": "stream",
     "text": [
      "/home/akedia/.local/lib/python3.6/site-packages/sklearn/ensemble/forest.py:248: FutureWarning: The default value of n_estimators will change from 10 in version 0.20 to 100 in 0.22.\n",
      "  \"10 in version 0.20 to 100 in 0.22.\", FutureWarning)\n"
     ]
    },
    {
     "name": "stdout",
     "output_type": "stream",
     "text": [
      "              precision    recall  f1-score   support\n",
      "\n",
      "           0       1.00      0.98      0.99    115964\n",
      "           1       0.44      0.88      0.59      2144\n",
      "\n",
      "   micro avg       0.98      0.98      0.98    118108\n",
      "   macro avg       0.72      0.93      0.79    118108\n",
      "weighted avg       0.99      0.98      0.98    118108\n",
      "\n"
     ]
    }
   ],
   "source": [
    "train_x,test_x,train_y,test_y = train_test_split(train_encoded,train_labels,test_size=0.2,random_state=42)\n",
    "\n",
    "'''clf = LogisticRegression(random_state=0, solver='lbfgs').fit(train_x, train_y)\n",
    "pred_clf = clf.predict(test_x)\n",
    "\n",
    "gbc = GradientBoostingClassifier()\n",
    "gbc.fit(train_x, train_y)\n",
    "predict_gbc = gbc.predict(test_x)'''\n",
    "\n",
    "rfc = RandomForestClassifier()\n",
    "rfc.fit(train_x, train_y)\n",
    "predict_rfc = rfc.predict(test_x)\n",
    "print(classification_report(predict_rfc,test_y))"
   ]
  },
  {
   "cell_type": "code",
   "execution_count": null,
   "metadata": {},
   "outputs": [],
   "source": []
  }
 ],
 "metadata": {
  "kernelspec": {
   "display_name": "Python 3",
   "language": "python",
   "name": "python3"
  },
  "language_info": {
   "codemirror_mode": {
    "name": "ipython",
    "version": 3
   },
   "file_extension": ".py",
   "mimetype": "text/x-python",
   "name": "python",
   "nbconvert_exporter": "python",
   "pygments_lexer": "ipython3",
   "version": "3.6.6"
  }
 },
 "nbformat": 4,
 "nbformat_minor": 2
}
